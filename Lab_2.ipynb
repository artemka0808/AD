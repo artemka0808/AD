{
 "cells": [
  {
   "cell_type": "code",
   "id": "initial_id",
   "metadata": {
    "collapsed": true,
    "ExecuteTime": {
     "end_time": "2025-03-25T11:33:19.935048Z",
     "start_time": "2025-03-25T11:32:55.977127Z"
    }
   },
   "source": [
    "import urllib.request\n",
    "import datetime\n",
    "import time\n",
    "import os\n",
    "\n",
    "if not os.path.isdir('data'):\n",
    "    os.mkdir('data')\n",
    "\n",
    "for i in range(1,28):\n",
    "    url = f\"https://www.star.nesdis.noaa.gov/smcd/emb/vci/VH/get_TS_admin.php?country=UKR&provinceID={i}&year1=1981&year2=2024&type=Mean\"\n",
    "    wp = urllib.request.urlopen(url)\n",
    "    text = wp.read()\n",
    "    now = datetime.datetime.now()\n",
    "    date_and_time = now.strftime(\"%d-%m-%Y__%H-%M-%S\")\n",
    "\n",
    "\n",
    "    with open(f'data/id_{str(i)}_{date_and_time}.csv', 'wb') as f:\n",
    "        f.write(text)\n",
    "    print(\"saved file\")\n",
    "\n",
    "print(\"Done!\")\n",
    "\n"
   ],
   "outputs": [
    {
     "name": "stdout",
     "output_type": "stream",
     "text": [
      "saved file\n",
      "saved file\n",
      "saved file\n",
      "saved file\n",
      "saved file\n",
      "saved file\n",
      "saved file\n",
      "saved file\n",
      "saved file\n",
      "saved file\n",
      "saved file\n",
      "saved file\n",
      "saved file\n",
      "saved file\n",
      "saved file\n",
      "saved file\n",
      "saved file\n",
      "saved file\n",
      "saved file\n",
      "saved file\n",
      "saved file\n",
      "saved file\n",
      "saved file\n",
      "saved file\n",
      "saved file\n",
      "saved file\n",
      "saved file\n",
      "Done!\n"
     ]
    }
   ],
   "execution_count": 2
  },
  {
   "metadata": {
    "ExecuteTime": {
     "end_time": "2025-03-25T11:36:30.558884Z",
     "start_time": "2025-03-25T11:36:30.001030Z"
    }
   },
   "cell_type": "code",
   "source": [
    "import os\n",
    "import pandas as pd\n",
    "\n",
    "def read_csv_files_to_df(directory):\n",
    "    data_frames = []  # список для збереження Data\n",
    "\n",
    "\n",
    "    for filename in os.listdir(directory):\n",
    "        reg = filename.split(\"_\")[1]\n",
    "        file_path = os.path.join(directory, filename)\n",
    "\n",
    "        try:\n",
    "            data = pd.read_csv(file_path, index_col=False, header=1)\n",
    "            data.columns = [col.strip().lower().replace(\"<br>\", \"\") for col in data.columns]\n",
    "            data = data.replace(to_replace=r'<.*?>', value='', regex=True)\n",
    "            data[\"oblast\"] = reg\n",
    "            data_frames.append(data)\n",
    "\n",
    "        except Exception as e:\n",
    "            print(f\"Не вдалося зчитати файл {file_path}: {e}\")\n",
    "\n",
    "\n",
    "    if data_frames:\n",
    "        combined_data = pd.concat(data_frames, ignore_index=True)\n",
    "    else:\n",
    "        combined_data = pd.DataFrame()\n",
    "\n",
    "    return combined_data\n",
    "\n",
    "data = read_csv_files_to_df(\"data\")\n",
    "print(data.head())\n"
   ],
   "id": "16d5ecf4e6768e24",
   "outputs": [
    {
     "name": "stdout",
     "output_type": "stream",
     "text": [
      "   year  week    smn     smt    vci    tci    vhi oblast\n",
      "0  1982   1.0  0.059  258.24  51.11  48.78  49.95     10\n",
      "1  1982   2.0  0.063  261.53  55.89  38.20  47.04     10\n",
      "2  1982   3.0  0.063  263.45  57.30  32.69  44.99     10\n",
      "3  1982   4.0  0.061  265.10  53.96  28.62  41.29     10\n",
      "4  1982   5.0  0.058  266.42  46.87  28.57  37.72     10\n"
     ]
    }
   ],
   "execution_count": 3
  },
  {
   "metadata": {
    "ExecuteTime": {
     "end_time": "2025-03-25T11:37:00.783773Z",
     "start_time": "2025-03-25T11:37:00.771023Z"
    }
   },
   "cell_type": "code",
   "source": [
    "obl_dict = {\n",
    "    1: \"Вінницька\", 2: \"Волинська\", 3: \"Дніпропетровська\", 4: \"Донецька\",\n",
    "    5: \"Житомирська\", 6: \"Закарпатська\", 7: \"Запорізька\", 8: \"Івано-Франківська\",\n",
    "    9: \"Київська\", 10: \"Кіровоградська\", 11: \"Луганська\", 12: \"Львівська\",\n",
    "    13: \"Миколаївська\", 14: \"Одеська\", 15: \"Полтавська\", 16: \"Рівненська\",\n",
    "    17: \"Сумська\", 18: \"Тернопільська\", 19: \"Харківська\", 20: \"Херсонська\",\n",
    "    21: \"Хмельницька\", 22: \"Черкаська\", 23: \"Чернівецька\", 24: \"Чернігівська\",\n",
    "    25: \"Республіка Крим\"\n",
    "}\n",
    "\n",
    "data[\"oblast\"] = data[\"oblast\"].astype(int).map(obl_dict)"
   ],
   "id": "b57bc3692e8d03a6",
   "outputs": [],
   "execution_count": 4
  },
  {
   "metadata": {
    "ExecuteTime": {
     "end_time": "2025-03-25T11:44:19.456541Z",
     "start_time": "2025-03-25T11:44:19.444752Z"
    }
   },
   "cell_type": "code",
   "source": [
    "#перетворюємо ствопчик років з рядка на ціле число\n",
    "data[\"year\"] = pd.to_numeric(data[\"year\"], errors=\"coerce\").astype(\"Int64\")\n",
    "\n",
    "print(data[(data[\"year\"] == 2019)][:10])"
   ],
   "id": "677eb4814a61b328",
   "outputs": [
    {
     "name": "stdout",
     "output_type": "stream",
     "text": [
      "      year  week    smn     smt    vci    tci    vhi          oblast\n",
      "1924  2019   1.0  0.049  254.33  37.78  55.80  46.79  Кіровоградська\n",
      "1925  2019   2.0  0.051  253.80  41.06  58.83  49.94  Кіровоградська\n",
      "1926  2019   3.0  0.055  254.70  48.00  56.41  52.21  Кіровоградська\n",
      "1927  2019   4.0  0.063  257.99  55.30  46.67  50.98  Кіровоградська\n",
      "1928  2019   5.0  0.074  263.70  60.13  34.03  47.08  Кіровоградська\n",
      "1929  2019   6.0  0.090  268.93  64.71  24.12  44.41  Кіровоградська\n",
      "1930  2019   7.0  0.107  273.33  70.97  15.26  43.12  Кіровоградська\n",
      "1931  2019   8.0  0.127  276.33  77.64  11.25  44.45  Кіровоградська\n",
      "1932  2019   9.0  0.146  278.31  82.56  11.06  46.81  Кіровоградська\n",
      "1933  2019  10.0  0.164  280.44  84.87  10.70  47.78  Кіровоградська\n"
     ]
    }
   ],
   "execution_count": 10
  },
  {
   "metadata": {
    "ExecuteTime": {
     "end_time": "2025-03-25T11:45:46.786571Z",
     "start_time": "2025-03-25T11:45:46.776711Z"
    }
   },
   "cell_type": "code",
   "source": [
    "import statistics\n",
    "\n",
    "def vhi_obl_year(obl, year):\n",
    "    res = data[(data[\"oblast\"] == obl) & (data[\"year\"] == year)]\n",
    "    res_vhi = list(res[\"vhi\"])\n",
    "\n",
    "    print(f\"vhi для {obl} області на {year} рік склав \\n{res_vhi}\")\n",
    "\n",
    "    print(\"\\n\\tMin:\", min(res_vhi))\n",
    "    print(\"\\tMax:\", max(res_vhi))\n",
    "\n",
    "    print(\"\\n\\tAvg:\", statistics.mean(res_vhi))\n",
    "    print(\"\\tMedian:\", statistics.median(res_vhi))\n",
    "\n",
    "vhi_obl_year(\"Черкаська\", 2006)"
   ],
   "id": "40608a5acd40e9a0",
   "outputs": [
    {
     "name": "stdout",
     "output_type": "stream",
     "text": [
      "vhi для Черкаська області на 2006 рік склав \n",
      "[50.31, 51.22, 49.33, 47.16, 45.88, 44.49, 41.57, 39.95, 43.31, 47.34, 49.36, 50.6, 50.5, 48.51, 46.96, 46.47, 48.97, 50.45, 49.51, 49.7, 51.02, 54.22, 57.03, 58.4, 58.14, 57.4, 55.8, 54.84, 54.8, 53.98, 54.46, 55.26, 55.67, 58.13, 60.7, 59.59, 57.71, 56.81, 54.87, 54.09, 52.81, 52.17, 51.26, 50.19, 48.38, 47.1, 47.57, 48.37, 48.96, 49.96, 50.68, 50.41]\n",
      "\n",
      "\tMin: 39.95\n",
      "\tMax: 60.7\n",
      "\n",
      "\tAvg: 51.39173076923077\n",
      "\tMedian: 50.55\n"
     ]
    }
   ],
   "execution_count": 11
  },
  {
   "metadata": {
    "ExecuteTime": {
     "end_time": "2025-03-25T11:46:01.272371Z",
     "start_time": "2025-03-25T11:46:01.256511Z"
    }
   },
   "cell_type": "code",
   "source": [
    "def vhi_obls_years(obl, min_year, max_year):\n",
    "    res = data[(data[\"oblast\"].isin(obl)) & (data[\"year\"].between(min_year, max_year+1))]\n",
    "    res_vhi = list(res[\"vhi\"])\n",
    "\n",
    "    print(f\"vhi для {obl} області на {min_year}-{max_year} має {len(res_vhi)} значень\")\n",
    "\n",
    "    print(\"\\n\\tMin:\", min(res_vhi))\n",
    "    print(\"\\tMax:\", max(res_vhi))\n",
    "\n",
    "    print(\"\\n\\tAvg:\", statistics.mean(res_vhi))\n",
    "    print(\"\\tMedian:\", statistics.median(res_vhi))\n",
    "\n",
    "vhi_obls_years([\"Черкаська\", \"Волинська\", \"Київська\"], 1990, 2021)"
   ],
   "id": "c0b7a06a8b604bb8",
   "outputs": [
    {
     "name": "stdout",
     "output_type": "stream",
     "text": [
      "vhi для ['Черкаська', 'Волинська', 'Київська'] області на 1990-2021 має 5148 значень\n",
      "\n",
      "\tMin: -1.0\n",
      "\tMax: 90.61\n",
      "\n",
      "\tAvg: 45.96346348096348\n",
      "\tMedian: 45.88\n"
     ]
    }
   ],
   "execution_count": 12
  },
  {
   "metadata": {
    "ExecuteTime": {
     "end_time": "2025-03-25T11:50:27.663780Z",
     "start_time": "2025-03-25T11:50:24.083747Z"
    }
   },
   "cell_type": "code",
   "source": [
    "def drought_years(percent=0):\n",
    "    draught_years = []\n",
    "    oblasti = data[\"oblast\"].unique()\n",
    "    min_obl_num = int(percent * len(oblasti) / 100)\n",
    "\n",
    "    for year in data[\"year\"].unique():\n",
    "        draughts_in = 0\n",
    "        for obl in oblasti:\n",
    "            res = data[(data[\"oblast\"] == obl) & (data[\"year\"] == year)]\n",
    "            res_vhi = list(res[\"vhi\"])\n",
    "            if len(res_vhi) != 0:\n",
    "                if statistics.mean(res_vhi) < 35:\n",
    "                    draughts_in += 1\n",
    "\n",
    "        if draughts_in > min_obl_num:\n",
    "            draught_years.append(int(year))\n",
    "\n",
    "    print(f\"Було {len(draught_years)} посушливих років\")\n",
    "    print(draught_years)\n",
    "\n",
    "drought_years(20)"
   ],
   "id": "61339b36f04b5230",
   "outputs": [
    {
     "name": "stdout",
     "output_type": "stream",
     "text": [
      "Було 3 посушливих років\n",
      "[1985, 1986, 1994]\n"
     ]
    }
   ],
   "execution_count": 13
  }
 ],
 "metadata": {
  "kernelspec": {
   "display_name": "Python 3",
   "language": "python",
   "name": "python3"
  },
  "language_info": {
   "codemirror_mode": {
    "name": "ipython",
    "version": 2
   },
   "file_extension": ".py",
   "mimetype": "text/x-python",
   "name": "python",
   "nbconvert_exporter": "python",
   "pygments_lexer": "ipython2",
   "version": "2.7.6"
  }
 },
 "nbformat": 4,
 "nbformat_minor": 5
}
